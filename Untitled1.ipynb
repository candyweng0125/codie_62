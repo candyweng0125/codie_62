{
  "nbformat": 4,
  "nbformat_minor": 0,
  "metadata": {
    "colab": {
      "provenance": []
    },
    "kernelspec": {
      "name": "python3",
      "display_name": "Python 3"
    },
    "language_info": {
      "name": "python"
    }
  },
  "cells": [
    {
      "cell_type": "code",
      "execution_count": null,
      "metadata": {
        "colab": {
          "base_uri": "https://localhost:8080/"
        },
        "id": "I7-RLzWUM-eb",
        "outputId": "33d6da4f-595b-477a-924e-8f1386025cc8"
      },
      "outputs": [
        {
          "output_type": "stream",
          "name": "stdout",
          "text": [
            "hello\n",
            "world!!!\n"
          ]
        }
      ],
      "source": [
        "print ('hello')\n",
        "print ('world!!!')"
      ]
    }
  ]
}